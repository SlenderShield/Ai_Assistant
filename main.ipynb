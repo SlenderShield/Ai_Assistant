{
 "cells": [
  {
   "cell_type": "code",
   "execution_count": null,
   "metadata": {},
   "outputs": [],
   "source": [
    "#The required libraries\n",
    "import os\n",
    "import time\n",
    "import subprocess\n",
    "import json"
   ]
  },
  {
   "cell_type": "code",
   "execution_count": null,
   "metadata": {},
   "outputs": [],
   "source": [
    "import wolframalpha\n",
    "import requests\n",
    "import webbrowser\n",
    "import wikipedia\n",
    "import datetime"
   ]
  },
  {
   "cell_type": "code",
   "execution_count": null,
   "metadata": {},
   "outputs": [],
   "source": [
    "import speech_recognition as sr\n",
    "import pyttsx3"
   ]
  },
  {
   "cell_type": "code",
   "execution_count": null,
   "metadata": {},
   "outputs": [],
   "source": [
    "load = 'Loading your personal assistant'\n",
    "print(load)"
   ]
  },
  {
   "cell_type": "code",
   "execution_count": null,
   "metadata": {},
   "outputs": [],
   "source": [
    "engine = pyttsx3.init('sapi5')  # 'nsss' for the ios devices\n",
    "voices = engine.getProperty('voices')\n",
    "engine.setProperty('voice','voices[0]')  # 0 for a voice of man, 1 for voice of a women"
   ]
  },
  {
   "cell_type": "code",
   "execution_count": null,
   "metadata": {},
   "outputs": [],
   "source": [
    "def speak(text):\n",
    "    \"\"\"function to let the ai speak\"\"\" \n",
    "    engine.say(text)  # the speech engine say what is given in as text\n",
    "    engine.runAndWait()"
   ]
  },
  {
   "cell_type": "code",
   "execution_count": null,
   "metadata": {},
   "outputs": [],
   "source": [
    "def wishMe():\n",
    "    hour = datetime.datetime.now().hour\n",
    "    if hour >= 0 and hour <= 12:\n",
    "        speak('Hello, Good Morning')\n",
    "        print('Hello, Good Morning')\n",
    "    elif hour > 12 and hour < 16:\n",
    "        speak('Hello, Good Afternoon')\n",
    "        print('Hello, Good Afternoon')\n",
    "    elif hour >= 22:\n",
    "        speak(\"Sir, It's already past 10 PM. Time to go to bed\")\n",
    "        print(\"Sir, It's 10 PM. Time to go to bed\")\n",
    "    else:\n",
    "        speak('Hello, Good Evening')\n",
    "        print('Hello, Good Evening')"
   ]
  },
  {
   "cell_type": "code",
   "execution_count": null,
   "metadata": {},
   "outputs": [],
   "source": [
    "def takeCommand():\n",
    "    r = sr.Recognizer()\n",
    "    with sr.Microphone() as source:\n",
    "        print('I am Listening')\n",
    "        audio = r.listen(source)\n",
    "        \n",
    "        try:\n",
    "            statement = r.recongize_google(audio,language='en-in')\n",
    "            print(f'user said:{statement}\\n')\n",
    "        except Exception as e:\n",
    "            speak('Pardon me, please repeat')\n",
    "            return 'None'\n",
    "        return statement"
   ]
  },
  {
   "cell_type": "code",
   "execution_count": null,
   "metadata": {},
   "outputs": [],
   "source": [
    "speak(load)\n",
    "wishMe()"
   ]
  },
  {
   "cell_type": "code",
   "execution_count": null,
   "metadata": {},
   "outputs": [],
   "source": [
    "if __name__ == '__main__':\n",
    "    while True:\n",
    "        speak('How may i help you')\n",
    "        statement = takeCommand().lower()\n",
    "        if statement ==  0:\n",
    "            continue\n",
    "        if 'Good bye' in statement or 'Bye' in statement or 'stop' in statement:\n",
    "            speak('Your ai assistant is logging off')\n",
    "            print('Your ai assistant is logging off')\n",
    "            break\n",
    "        \n",
    "        if 'wikipedia' in statement:\n",
    "            speak('searching wikipedia.....')\n",
    "            statement = statement.replace('wikipedia','')\n",
    "            results = wikipedia.summary(statement, sentences = 5)\n",
    "            speak('According to the wikipedia...')\n",
    "            speak(results)\n",
    "            print(results)\n",
    "        elif 'Open youtube' in statement:\n",
    "            webbrowser.open_new_tab('https://youtube.com')\n",
    "            speak('Youtube is open for you')\n",
    "            print('Youtube is open for you')\n",
    "            time.sleep(5)\n",
    "            \n",
    "        elif 'Open google' in statement:\n",
    "            webbrowser.open_new_tab('https://google.com')\n",
    "            speak('Google search is open for you')\n",
    "            print('Google search is open for you')\n",
    "            time.sleep(5)\n",
    "        \n",
    "        elif 'open gmail' in statement:\n",
    "            webbrowser.open_new_tab('https://mail.google.com/mail/u/0/#inbox')\n",
    "            speak('Your mail is open for you')\n",
    "            time.sleep(5)\n",
    "        \n",
    "        elif 'weather' in statement:\n",
    "            api_key = ''  # api key\n",
    "            base_url = 'https://'\n",
    "            speak('Whats the city name')\n",
    "            city =  takeCommand()\n",
    "            url = base_url + 'apiid' + api_key + \"&q=\" + city\n",
    "            response = requests.get(url)\n",
    "            report = response.json()\n",
    "            if report['cod'] != '404':\n",
    "                weather = report['main']\n",
    "                temperature = weather['temp']\n",
    "                humidity = weather['humidity']\n",
    "                getDescription = weather['weather']\n",
    "                description = getDescription[0]['description']\n",
    "                speak('The tempearture in kelvin is' + str(temperature))\n",
    "                speak('The Humidity in percentage is' + str(humidity))\n",
    "                speak('Weather description' + str(description))\n",
    "                print('The tempearture in kelvin is' + str(temperature))\n",
    "                print('The Humidity in percentage is' + str(humidity))\n",
    "                print('Weather description' + str(description))\n",
    "            else:\n",
    "                speak('Sorry sir, The city not found')\n",
    "                print('Sorry sir, The city not found')\n",
    "        \n",
    "        elif 'time' in statement:\n",
    "            time_now = datetime.datetime.now().strftime(\"%H:%M:%S\")\n",
    "            speak(time_now)\n",
    "            print(f'The time is{time_now}')\n",
    "        \n",
    "        elif 'who are you' in statement or 'what can you do' in statement:\n",
    "            speak(\"I am your ai assistant. I am programed to work for you and help you in your task\")\n",
    "        \n",
    "        elif 'who built you' in statement or 'who made you' in statement or 'who created you' in statement:\n",
    "            speak('Mr Muralidhara Bhat is my creator.')\n",
    "            print('Mr Muralidhara Bhat is my creator.')\n",
    "        \n",
    "        elif 'open stack overflow' in statement:\n",
    "            webbrowser.open_new_tab('https://stackoverflow.com/login')\n",
    "            time.sleep(5)\n",
    "        \n",
    "        elif 'news' in statement:\n",
    "            news = webbrowser.open_new_tab('https://timesofindia.indiatimes.com/home/headlines')\n",
    "            speak('Here are some headline for you' + str(news))\n",
    "            time.sleep(4)\n",
    "        \n",
    "        elif 'search' in statement:\n",
    "            search = statement.replace('search','')\n",
    "            webbrowser.open_new_tab('statement')\n",
    "            time.sleep(5)\n",
    "            \n",
    "        elif 'ask' in statement:\n",
    "            speak('I can answer to computational and geographical questions to. Just try me')\n",
    "            speak('What do you want to compute')\n",
    "            question = takeCommand()\n",
    "            wolframaplha_api = ''\n",
    "            client = wolframalpha.Clien(wolframalpha_api)\n",
    "            res = client.query(question)\n",
    "            answer = next(res.results).text\n",
    "            speak(answer)\n",
    "            print(answer)\n",
    "            \n",
    "        elif 'Shutdown' in statement or 'log off' in statement or 'sign out' in statement:\n",
    "            speak('Okay, Your PC will shut down in 10 seconds')\n",
    "            speaK('Make sure your works are saved')\n",
    "            subprocess.call(['Shutdown','/1'])\n",
    "\n",
    "time.sleep(3)"
   ]
  },
  {
   "cell_type": "code",
   "execution_count": null,
   "metadata": {},
   "outputs": [],
   "source": []
  }
 ],
 "metadata": {
  "interpreter": {
   "hash": "ac59ebe37160ed0dfa835113d9b8498d9f09ceb179beaac4002f036b9467c963"
  },
  "kernelspec": {
   "display_name": "Python 3.9.5 64-bit",
   "name": "python3"
  },
  "language_info": {
   "codemirror_mode": {
    "name": "ipython",
    "version": 3
   },
   "file_extension": ".py",
   "mimetype": "text/x-python",
   "name": "python",
   "nbconvert_exporter": "python",
   "pygments_lexer": "ipython3",
   "version": "3.9.5"
  }
 },
 "nbformat": 4,
 "nbformat_minor": 5
}